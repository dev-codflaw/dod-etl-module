{
 "cells": [
  {
   "cell_type": "code",
   "execution_count": 16,
   "id": "6201af41",
   "metadata": {},
   "outputs": [],
   "source": [
    "import pandas as pd\n",
    "import re\n",
    "from datetime import datetime\n",
    "\n",
    "# --- Config ---\n",
    "INPUT_FILE = \"/home/veronica/Desktop/dod-unprocessed-data/Facebook_Data_batch_eg_20251006.csv\"\n",
    "OUTPUT_VALID = \"/home/veronica/Desktop/dod-unprocessed-data/process_file.csv\"\n",
    "OUTPUT_INVALID = \"/home/veronica/Desktop/dod-unprocessed-data/invalid_rows.csv\"\n",
    "\n",
    "# --- Regex patterns ---\n",
    "EMAIL_REGEX = re.compile(r\"^[A-Za-z0-9._%+-]+@[A-Za-z0-9.-]+\\.[A-Za-z]{2,}$\")\n",
    "PHONE_REGEX = re.compile(r\"^\\+?[\\d\\s()-]{6,}$\")\n",
    "\n",
    "def is_valid_email(value):\n",
    "    return isinstance(value, str) and EMAIL_REGEX.match(value.strip())\n",
    "\n",
    "def is_valid_phone(value):\n",
    "    if not isinstance(value, str):\n",
    "        value = str(value)\n",
    "    value = value.strip()\n",
    "    return bool(PHONE_REGEX.match(value))\n",
    "\n"
   ]
  },
  {
   "cell_type": "code",
   "execution_count": 17,
   "id": "70b45135",
   "metadata": {},
   "outputs": [
    {
     "name": "stdout",
     "output_type": "stream",
     "text": [
      "Total rows: 92622\n"
     ]
    }
   ],
   "source": [
    "# 🧩 Cell 2: Load and Inspect Input Data\n",
    "df = pd.read_csv(INPUT_FILE)\n",
    "print(\"Total rows:\", len(df))\n",
    "# df.head(10)\n"
   ]
  },
  {
   "cell_type": "code",
   "execution_count": 18,
   "id": "593ef9d3",
   "metadata": {},
   "outputs": [],
   "source": [
    "# 🧩 Cell 3: Define Validation Function\n",
    "def validate_row(row):\n",
    "    errors = []\n",
    "\n",
    "    # 1. input_url\n",
    "    if not str(row.get(\"input_url\", \"\")).strip():\n",
    "        errors.append(\"input_url blank\")\n",
    "\n",
    "    # 2. time_stamp\n",
    "    if not str(row.get(\"time_stamp\", \"\")).strip():\n",
    "        errors.append(\"time_stamp blank\")\n",
    "\n",
    "    # 3. fb_url\n",
    "    fb_url = str(row.get(\"fb_url\", \"\")).strip()\n",
    "    if not fb_url:\n",
    "        errors.append(\"fb_url blank\")\n",
    "    elif \"category\" in fb_url.lower():\n",
    "        errors.append(\"fb_url contains 'category'\")\n",
    "    elif fb_url.startswith(\"https://l.facebook.com/l.php\"):\n",
    "        errors.append(\"fb_url invalid redirect\")\n",
    "\n",
    "    # 4. fb_company_name\n",
    "    if not str(row.get(\"fb_company_name\", \"\")).strip():\n",
    "        errors.append(\"fb_company_name blank\")\n",
    "\n",
    "    # 5. fb_email_address\n",
    "    email = str(row.get(\"fb_email_address\", \"\")).strip()\n",
    "    if email and not is_valid_email(email):\n",
    "        errors.append(\"invalid email_address\")\n",
    "    elif not email:\n",
    "        errors.append(\"fb_email_address blank\")\n",
    "\n",
    "    # 6. fb_url_type\n",
    "    fb_type = str(row.get(\"fb_url_type\", \"\")).strip().lower()\n",
    "    if fb_type not in [\"official page\", \"unofficial page\", \"official\", \"unofficial\"]:\n",
    "        errors.append(\"fb_url_type invalid\")\n",
    "\n",
    "    # 7. fb_number_of_followers\n",
    "    followers = str(row.get(\"fb_number_of_followers\", \"\")).strip()\n",
    "    if followers == \"\":\n",
    "        errors.append(\"fb_number_of_followers blank\")\n",
    "\n",
    "    # 8. fb_phone_number\n",
    "    phone = str(row.get(\"fb_phone_number\", \"\")).strip()\n",
    "    if not phone or not is_valid_phone(phone):\n",
    "        errors.append(\"invalid fb_phone_number\")\n",
    "\n",
    "    return errors\n"
   ]
  },
  {
   "cell_type": "code",
   "execution_count": 19,
   "id": "e99bcf38",
   "metadata": {},
   "outputs": [
    {
     "name": "stdout",
     "output_type": "stream",
     "text": [
      "✅ Total Valid: 43792 | ❌ Total Invalid: 48830\n"
     ]
    }
   ],
   "source": [
    "# 🧩 Cell 4: Apply Validation Rules\n",
    "valid_rows = []\n",
    "invalid_rows = []\n",
    "\n",
    "for _, row in df.iterrows():\n",
    "    record = row.to_dict()\n",
    "    issues = validate_row(record)\n",
    "\n",
    "    if not issues:\n",
    "        valid_rows.append(record)\n",
    "    else:\n",
    "        record[\"validation_errors\"] = \"; \".join(issues)\n",
    "        invalid_rows.append(record)\n",
    "\n",
    "valid_df = pd.DataFrame(valid_rows)\n",
    "invalid_df = pd.DataFrame(invalid_rows)\n",
    "\n",
    "print(f\"✅ Total Valid: {len(valid_df)} | ❌ Total Invalid: {len(invalid_df)}\")\n"
   ]
  },
  {
   "cell_type": "code",
   "execution_count": null,
   "id": "e02dc468",
   "metadata": {},
   "outputs": [
    {
     "name": "stdout",
     "output_type": "stream",
     "text": [
      "✅ VALID ROWS (Top 10):\n",
      "\n",
      "❌ INVALID ROWS (Top 10):\n"
     ]
    }
   ],
   "source": [
    "# 🧩 Cell 5: Preview Top Rows\n",
    "print(\"✅ VALID ROWS (Top 10):\")\n",
    "display(valid_df.head(10))\n",
    "\n",
    "print(\"\\n❌ INVALID ROWS (Top 10):\")\n",
    "display(invalid_df.head(10))\n"
   ]
  },
  {
   "cell_type": "code",
   "execution_count": 12,
   "id": "04c9b752",
   "metadata": {},
   "outputs": [
    {
     "name": "stdout",
     "output_type": "stream",
     "text": [
      "Files saved → /home/veronica/Desktop/dod-unprocessed-data/process_file.csv, /home/veronica/Desktop/dod-unprocessed-data/invalid_rows.csv\n"
     ]
    }
   ],
   "source": [
    "# 🧩 Cell 6: (Optional) Save to CSVs for later comparison\n",
    "valid_df.to_csv(OUTPUT_VALID, index=False)\n",
    "invalid_df.to_csv(OUTPUT_INVALID, index=False)\n",
    "\n",
    "print(f\"Files saved → {OUTPUT_VALID}, {OUTPUT_INVALID}\")\n"
   ]
  }
 ],
 "metadata": {
  "kernelspec": {
   "display_name": "env (3.12.3)",
   "language": "python",
   "name": "python3"
  },
  "language_info": {
   "codemirror_mode": {
    "name": "ipython",
    "version": 3
   },
   "file_extension": ".py",
   "mimetype": "text/x-python",
   "name": "python",
   "nbconvert_exporter": "python",
   "pygments_lexer": "ipython3",
   "version": "3.12.3"
  }
 },
 "nbformat": 4,
 "nbformat_minor": 5
}
